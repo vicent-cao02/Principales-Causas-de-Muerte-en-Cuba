{
 "cells": [
  {
   "cell_type": "code",
   "execution_count": 74,
   "metadata": {},
   "outputs": [
    {
     "name": "stdout",
     "output_type": "stream",
     "text": [
      "Se han guardado los datos en output.json\n"
     ]
    }
   ],
   "source": [
    "import pandas as pd\n",
    "import json\n",
    "\n",
    "file_path = 'tasas-de-las-principales-causas-de-muerte.xls'\n",
    "df = pd.read_excel(file_path)\n",
    "    \n",
    "df.to_csv('tasas-de-las-principales-causas-de-muerte-.csv', index=False)\n",
    "df.drop(df.index[0], inplace=True)\n",
    "\n",
    "json_list = []\n",
    "\n",
    "for index, row in df.iterrows():\n",
    "    row_dict = {}\n",
    "    for column_name, value in row.items():\n",
    "        row_dict[column_name] = value\n",
    "    json_list.append(row_dict)\n",
    "\n",
    "output_json_file = 'output.json'\n",
    "with open(output_json_file, 'w') as json_file:\n",
    "    json.dump(json_list, json_file, indent=4)\n",
    "\n",
    "print(f'Se han guardado los datos en {output_json_file}')"
   ]
  }
 ],
 "metadata": {
  "kernelspec": {
   "display_name": "Python 3",
   "language": "python",
   "name": "python3"
  },
  "language_info": {
   "codemirror_mode": {
    "name": "ipython",
    "version": 3
   },
   "file_extension": ".py",
   "mimetype": "text/x-python",
   "name": "python",
   "nbconvert_exporter": "python",
   "pygments_lexer": "ipython3",
   "version": "3.11.4"
  }
 },
 "nbformat": 4,
 "nbformat_minor": 2
}
